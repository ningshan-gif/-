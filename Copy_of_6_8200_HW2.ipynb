{
  "cells": [
    {
      "cell_type": "markdown",
      "metadata": {
        "id": "view-in-github",
        "colab_type": "text"
      },
      "source": [
        "<a href=\"https://colab.research.google.com/github/ningshan-gif/-/blob/main/Copy_of_6_8200_HW2.ipynb\" target=\"_parent\"><img src=\"https://colab.research.google.com/assets/colab-badge.svg\" alt=\"Open In Colab\"/></a>"
      ]
    },
    {
      "cell_type": "markdown",
      "metadata": {
        "id": "7AGouWesMiIR"
      },
      "source": [
        "# Spring 2024 6.8200 Computational Sensorimotor Learning Assignment 2\n",
        "\n",
        "In this assignment, we will implement model-free RL algorithms from scratch to solve `DoorKeyEnv5x5`.  We will cover:\n",
        "\n",
        "\n",
        "* REINFORCE\n",
        "* Vanilla Policy Gradient (VPG)\n",
        "* Generalized Advantage Estimation (GAE)\n",
        "\n",
        "You will need to **answer the bolded questions** and **fill in the missing code snippets** (marked by **TODO**).\n",
        "\n",
        "There are (approximately) **70** total points to be had in this PSET.  `ctrl-f` for \"pts\" to ensure you don't miss questions.\n",
        "\n",
        "\n",
        "Note: Do not reveal any personal information in the assignment."
      ]
    },
    {
      "cell_type": "markdown",
      "metadata": {
        "id": "RRdsOe1INwSL"
      },
      "source": [
        "## Setup\n",
        "\n",
        "The following code sets up requirements, imports, and helper functions (you can ignore this)."
      ]
    },
    {
      "cell_type": "code",
      "execution_count": 1,
      "metadata": {
        "id": "DaAxXEiCd6pc",
        "colab": {
          "base_uri": "https://localhost:8080/"
        },
        "outputId": "6591fc29-f851-42ab-84ce-b6fb36345256"
      },
      "outputs": [
        {
          "output_type": "stream",
          "name": "stdout",
          "text": [
            "Collecting git+https://github.com/Improbable-AI/sensorimotor_checker.git@master\n",
            "  Cloning https://github.com/Improbable-AI/sensorimotor_checker.git (to revision master) to /tmp/pip-req-build-xcilf24o\n",
            "  Running command git clone --filter=blob:none --quiet https://github.com/Improbable-AI/sensorimotor_checker.git /tmp/pip-req-build-xcilf24o\n",
            "  Running command git checkout -b master --track origin/master\n",
            "  Switched to a new branch 'master'\n",
            "  Branch 'master' set up to track remote branch 'master' from 'origin'.\n",
            "  Resolved https://github.com/Improbable-AI/sensorimotor_checker.git to commit e02f6303ebf14b5ed27a7b5aeed7e3a5427e22ff\n",
            "  Installing build dependencies ... \u001b[?25l\u001b[?25hdone\n",
            "  Getting requirements to build wheel ... \u001b[?25l\u001b[?25hdone\n",
            "  Preparing metadata (pyproject.toml) ... \u001b[?25l\u001b[?25hdone\n",
            "Building wheels for collected packages: sensorimotor_checker\n",
            "  Building wheel for sensorimotor_checker (pyproject.toml) ... \u001b[?25l\u001b[?25hdone\n",
            "  Created wheel for sensorimotor_checker: filename=sensorimotor_checker-0.0.9-py3-none-any.whl size=4298 sha256=bb751c1469a7d3a5f4d2455270e91c0fc1c5a5f2b83ff5c0dbb9eca0bbff08af\n",
            "  Stored in directory: /tmp/pip-ephem-wheel-cache-wcv2y72x/wheels/50/00/f1/315b902a24192b47f94d124df94d7c064c98abe3c39c44d1a4\n",
            "Successfully built sensorimotor_checker\n",
            "Installing collected packages: sensorimotor_checker\n",
            "Successfully installed sensorimotor_checker-0.0.9\n"
          ]
        }
      ],
      "source": [
        "!pip install git+https://github.com/Improbable-AI/sensorimotor_checker.git@master"
      ]
    },
    {
      "cell_type": "code",
      "execution_count": 2,
      "metadata": {
        "id": "jX9eHiRsbDdX"
      },
      "outputs": [],
      "source": [
        "!pip install gym-minigrid &>/dev/null"
      ]
    },
    {
      "cell_type": "code",
      "execution_count": 3,
      "metadata": {
        "id": "oZDM2oukbDdc",
        "colab": {
          "base_uri": "https://localhost:8080/"
        },
        "outputId": "fdc466cb-a720-49fb-915a-1f173a7d8a12"
      },
      "outputs": [
        {
          "output_type": "stream",
          "name": "stderr",
          "text": [
            "/usr/local/lib/python3.10/dist-packages/gym/envs/registration.py:307: DeprecationWarning: The package name gym_minigrid has been deprecated in favor of minigrid. Please uninstall gym_minigrid and install minigrid with `pip install minigrid`. Future releases will be maintained under the new package name minigrid.\n",
            "  fn()\n"
          ]
        }
      ],
      "source": [
        "import torch\n",
        "import torch.nn as nn\n",
        "from torch.distributions.categorical import Categorical\n",
        "import torch.nn.functional as F\n",
        "import gym_minigrid\n",
        "import numpy as np\n",
        "import matplotlib.pyplot as plt\n",
        "import gym\n",
        "from tqdm.notebook import tqdm\n",
        "from gym_minigrid.envs.doorkey import DoorKeyEnv\n",
        "import pandas as pd\n",
        "import random\n",
        "from sensorimotor_checker import hw2_tests\n",
        "from tqdm import tqdm"
      ]
    },
    {
      "cell_type": "code",
      "execution_count": 4,
      "metadata": {
        "id": "G-HTrnKZd6pf"
      },
      "outputs": [],
      "source": [
        "checker_policy_gradient = hw2_tests.TestPolicyGradients()"
      ]
    },
    {
      "cell_type": "code",
      "execution_count": 5,
      "metadata": {
        "id": "P6yYDc3bN6DU"
      },
      "outputs": [],
      "source": [
        "# Function from https://github.com/ikostrikov/pytorch-a2c-ppo-acktr/blob/master/model.py\n",
        "def init_params(m):\n",
        "    \"\"\"\n",
        "    Initialize parameters of the network.\n",
        "    m: torch.nn.Module\n",
        "    \"\"\"\n",
        "    classname = m.__class__.__name__\n",
        "    if classname.find(\"Linear\") != -1:\n",
        "        m.weight.data.normal_(0, 1)\n",
        "        m.weight.data *= 1 / torch.sqrt(m.weight.data.pow(2).sum(1, keepdim=True))\n",
        "        if m.bias is not None:\n",
        "            m.bias.data.fill_(0)\n",
        "\n",
        "def preprocess_obss(obss, device=None):\n",
        "    \"\"\"\n",
        "    Convert observation into Torch.Tensor\n",
        "\n",
        "    Parameters\n",
        "    ----\n",
        "    obss: dictionary or np.ndarray\n",
        "    device: target device of torch.Tensor ('cpu', 'cuda')\n",
        "\n",
        "    Return\n",
        "    ----\n",
        "    Torch Tensor\n",
        "    \"\"\"\n",
        "    if isinstance(obss, dict):\n",
        "        images = np.array([obss[\"image\"]])\n",
        "    else:\n",
        "        images = np.array([o[\"image\"] for o in obss])\n",
        "\n",
        "    return torch.tensor(images, device=device, dtype=torch.float)\n",
        "\n",
        "class DoorKeyEnv5x5(DoorKeyEnv):\n",
        "    def __init__(self):\n",
        "        self.render_mode = \"rgb_array\"\n",
        "        super().__init__(size=5)\n",
        "\n",
        "    def _reward(self):\n",
        "        \"\"\"\n",
        "        Compute the reward to be given upon success\n",
        "        \"\"\"\n",
        "        return 1"
      ]
    },
    {
      "cell_type": "code",
      "execution_count": 6,
      "metadata": {
        "id": "Dl6tYW2aJ3Ji"
      },
      "outputs": [],
      "source": [
        "class Config:\n",
        "    \"\"\"\n",
        "    Stores algorithmic hyperparameters.\n",
        "    \"\"\"\n",
        "    def __init__(self,\n",
        "                score_threshold=0.93,\n",
        "                discount=0.995,\n",
        "                lr=1e-3,\n",
        "                max_grad_norm=0.5,\n",
        "                log_interval=10,\n",
        "                max_episodes=2000,\n",
        "                gae_lambda=0.95,\n",
        "                use_critic=False,\n",
        "                clip_ratio=0.2,\n",
        "                target_kl=0.01,\n",
        "                train_ac_iters=5,\n",
        "                use_discounted_reward=False,\n",
        "                entropy_coef=0.01,\n",
        "                use_gae=False):\n",
        "\n",
        "        self.score_threshold = score_threshold # criterion for early stopping. If the rolling average reward (over the last 100 episodes) is greater than it, it ends.\n",
        "        self.discount = discount # discount factor\n",
        "        self.lr = lr # learning rate\n",
        "        self.max_grad_norm = max_grad_norm # the maximum gradient norm (https://pytorch.org/docs/stable/generated/torch.nn.utils.clip_grad_norm_.html)\n",
        "        self.log_interval = log_interval # logging interval\n",
        "        self.max_episodes = max_episodes # the maximum number of episodes.\n",
        "        self.use_critic = use_critic # whether to use critic or not.\n",
        "        self.clip_ratio = clip_ratio # clip_ratio of PPO.\n",
        "        self.target_kl = target_kl # target KL divergence for early stoping train_ac_iters for PPO\n",
        "        self.train_ac_iters = train_ac_iters # how many time to train ac_model using current computed old_logps\n",
        "        self.gae_lambda=gae_lambda # lambda in Generalized Advantage Estimation (GAE)\n",
        "        self.use_discounted_reward=use_discounted_reward # whether use discounted reward or not.\n",
        "        self.entropy_coef = entropy_coef # entropy coefficient for PPO\n",
        "        self.use_gae = use_gae # whether to use GAE or not."
      ]
    },
    {
      "cell_type": "markdown",
      "metadata": {
        "id": "Ie0g0fPNxVRQ"
      },
      "source": [
        "# Task (Environment)\n",
        "\n",
        "In this assignment, we will work with the `DoorKeyEnv5x5` environment from [gym_miniworld](https://minigrid.farama.org/). This environment is a $5\\times 5$ gridworld. The agent needs to pick up the key, open the door, and then go the the green cell. The agent gets a $+1$ reward if it reaches the green cell, and a $0$ reward otherwise.\n",
        "\n",
        "\n",
        "The environment is visually shown below:\n"
      ]
    },
    {
      "cell_type": "markdown",
      "metadata": {
        "id": "Cbqi_DnbxibX"
      },
      "source": [
        "\n",
        "![image.png](data:image/png;base64,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)"
      ]
    },
    {
      "cell_type": "markdown",
      "metadata": {
        "id": "98WOwXCKP54C"
      },
      "source": [
        "\n",
        "First, let's learn about how to interact with an env\n",
        "\n",
        "**Question**: What do `env.reset()` and `env.step()` do? Why we need to call `env.reset()` before `env.step()`?  What is the input and output of `env.step()` and its meaning (i.e., meaning of `action`, `obs`, `reward`, `terminated`, `truncated`, `info`)? (Hint: You can refer to Gym environment [documentation](https://gymnasium.farama.org/api/env/) to understand how each function works.) **(10 pts)**\n",
        "\n",
        "**A**: env.reset() sets the environment to its initial state and env.step() performs the actions and returns the results of the action in terms of reward, agent observdoation and if the environment has terminated or truncated. We need to call env.reset() before calling step() because the current episode could already be terminated or truncated, so we would need to restart the environment to its initial state for the next episode to ensure the same learning environment. The input of env.steo() is action type, which means the actiona taken by the agent that is applied on the environment to get the next state. The output contains observations of the updated environment, reward of performing the last action, if the state is in its terminal state (`terminated`) or reached it upper bound (`truncated`) and other info helpful for debugging and logging(`info`)."
      ]
    },
    {
      "cell_type": "code",
      "execution_count": 7,
      "metadata": {
        "id": "CvgnCnitP54D",
        "colab": {
          "base_uri": "https://localhost:8080/",
          "height": 451
        },
        "outputId": "a2ad53be-3573-42d1-e27b-2d4c65f93825"
      },
      "outputs": [
        {
          "output_type": "execute_result",
          "data": {
            "text/plain": [
              "<matplotlib.image.AxesImage at 0x7b44e43c09a0>"
            ]
          },
          "metadata": {},
          "execution_count": 7
        },
        {
          "output_type": "display_data",
          "data": {
            "text/plain": [
              "<Figure size 640x480 with 1 Axes>"
            ],
            "image/png": "[encoded data removed]"
          },
          "metadata": {}
        }
      ],
      "source": [
        "env = DoorKeyEnv5x5() # define environment.\n",
        "env.reset()\n",
        "action = env.action_space.sample()\n",
        "obs, reward, terminated, truncated, info = env.step(action)\n",
        "\n",
        "# get an RGB image corresponding to the whole environment or the agent's point of view (https://github.com/Farama-Foundation/Minigrid/blob/master/minigrid/minigrid_env.py#L716)\n",
        "#            highlight (bool): If true, the agent's field of view or point of view is highlighted with a lighter gray color.\n",
        "#            tile_size (int): How many pixels will form a tile from the NxM grid.\n",
        "#            agent_pov (bool): If true, the rendered frame will only contain the point of view of the agent.\n",
        "frame = env.get_frame(highlight=env.highlight, tile_size=env.tile_size, agent_pov=env.agent_pov)\n",
        "# show an image to the notebook.\n",
        "plt.imshow(frame)\n"
      ]
    },
    {
      "cell_type": "markdown",
      "metadata": {
        "id": "mBTY5ky9N8uC"
      },
      "source": [
        "# Model\n",
        "\n",
        "Our *actor* will take in as input the `DoorKeyEnv5x5` observation (a 7x7x3 image), and output a categorical distribution over all possible actions.  To choose an action, we will sample from this distribution.  We suggest implementing the actor network to contain a few convolutional layers, followed by a few fully-connected layers.\n",
        "\n",
        "In addition to the actor network, later questions in the PSET require estimating the value network, called the *critic*.  The critic estimates total future reward, but is notably *on-policy*, meaning it's reward estimates are conditioned on the actor. We will use the critic to reduce variance in the policy gradient estimate. We will get to that soon.\n",
        "\n",
        "We have provided you a reference architecture to use for your actor-critic networks. Note that we have separate networks for each that do not share weights, as this has been shown to empirically improve performance. Also note that the policy outputs a `torch.distributions.categorical.Categorical` object.\n"
      ]
    },
    {
      "cell_type": "code",
      "execution_count": 8,
      "metadata": {
        "id": "fTpcS-cYbDdd"
      },
      "outputs": [],
      "source": [
        "class ACModel(nn.Module):\n",
        "    def __init__(self, num_actions, use_critic=False): # what is num_actions\n",
        "        \"\"\"\n",
        "        Represents an Actor Crictic model that takes a 2d, multi-channeled\n",
        "        image as input.\n",
        "\n",
        "        Parameters\n",
        "        ----\n",
        "        num_actions : int\n",
        "\n",
        "                      The action space of the environment.\n",
        "                      The action space for DoorKey5x5 is 7-dimensional:\n",
        "                      0: turn left,\n",
        "                      1: turn right,\n",
        "                      2: forward,\n",
        "                      3: pickup an object,\n",
        "                      4: drop an object,\n",
        "                      5: activate an object,\n",
        "                      6: done completing task\n",
        "\n",
        "        use_critics : bool\n",
        "\n",
        "                      Critic network will be used in forward pass if flag is set\n",
        "                      to true.\n",
        "        \"\"\"\n",
        "        super().__init__()\n",
        "        self.use_critic = use_critic\n",
        "\n",
        "        # Define actor's model\n",
        "        # Define CNN to process gym image\n",
        "        self.image_conv_actor = nn.Sequential(\n",
        "            nn.Conv2d(3, 16, (2, 2)),\n",
        "            nn.ReLU(),\n",
        "            nn.MaxPool2d((2, 2)),\n",
        "            nn.Conv2d(16, 32, (2, 2)),\n",
        "            nn.ReLU(),\n",
        "            nn.Conv2d(32, 64, (2, 2)),\n",
        "            nn.ReLU()\n",
        "        )\n",
        "        # Take in output of actor CNN to output categorical distribution over\n",
        "        # actions\n",
        "        self.actor = nn.Sequential(\n",
        "            nn.Linear(64, 64),\n",
        "            nn.Tanh(),\n",
        "            nn.Linear(64, num_actions)\n",
        "        )\n",
        "\n",
        "        # Define critic's model\n",
        "        if self.use_critic:\n",
        "            # Define CNN to process gym image\n",
        "            self.image_conv_critic = nn.Sequential(\n",
        "                nn.Conv2d(3, 16, (2, 2)),\n",
        "                nn.ReLU(),\n",
        "                nn.MaxPool2d((2, 2)),\n",
        "                nn.Conv2d(16, 32, (2, 2)),\n",
        "                nn.ReLU(),\n",
        "                nn.Conv2d(32, 64, (2, 2)),\n",
        "                nn.ReLU()\n",
        "            )\n",
        "            # Take in output of critic CNN to output a value representing the\n",
        "            # reward\n",
        "            self.critic = nn.Sequential(\n",
        "                nn.Linear(64, 64),\n",
        "                nn.Tanh(),\n",
        "                nn.Linear(64, 1)\n",
        "            )\n",
        "\n",
        "        # Initialize parameters correctly (don't remove this!)\n",
        "        self.apply(init_params)\n",
        "\n",
        "    def forward(self, obs):\n",
        "        \"\"\"\n",
        "        Performs a forward pass through the actor-critic network\n",
        "\n",
        "        Parameters\n",
        "        ----\n",
        "        obs : int tensor. Shape [Batch size, ImWidth, ImHeight, Channels]\n",
        "\n",
        "              input to the network.\n",
        "        ----\n",
        "\n",
        "        returns:\n",
        "\n",
        "        dist : torch.distribution\n",
        "            The distribution of actions from policy. A Categorical distribution\n",
        "            for discreet action spaces.\n",
        "        value : torch.Tensor (Batch size, 1)\n",
        "            value output by critic network\n",
        "        \"\"\"\n",
        "        conv_in = obs.transpose(1, 3).transpose(2, 3) # reshape into expected order\n",
        "\n",
        "        dist, value = None, None\n",
        "        ##### produce Categorical action distribtuion and critic value output #####\n",
        "        ##### if self.use_critic is false, return all zeros for value ###################\n",
        "        x = self.image_conv_actor(conv_in)\n",
        "        embedding = x.reshape(x.shape[0], -1)\n",
        "\n",
        "        x = self.actor(embedding)\n",
        "        dist = Categorical(logits=F.log_softmax(x, dim=1))\n",
        "\n",
        "        if self.use_critic:\n",
        "            y = self.image_conv_critic(conv_in)\n",
        "            embedding = y.reshape(y.shape[0], -1)\n",
        "\n",
        "            value = self.critic(embedding).squeeze(1)\n",
        "        else:\n",
        "            value = torch.zeros((x.shape[0], 1), device=x.device)\n",
        "        ##################################################################################\n",
        "\n",
        "        return dist, value"
      ]
    },
    {
      "cell_type": "markdown",
      "metadata": {
        "id": "I9mwBFZ3RowL"
      },
      "source": [
        "# Model Evaluation\n",
        "\n",
        "The following code runs the actor critic model `acmodel` for one episode, and returns a dictionary with all the relevant information from the rollout.  It relies on placeholders below for `compute_advantage_gae` and `compute_discounted_return`: you can ignore these for now, and just evaluate through to the next section. Regarding `compute_advantage_gae`, the paper [Generalized Advantage Estimation](https://arxiv.org/abs/1506.02438) describes a nifty method for building a strong advantage estimate (see formula 16 in the paper) that empirically outperforms a naive subtraction (and includes reward shaping)."
      ]
    },
    {
      "cell_type": "code",
      "execution_count": 9,
      "metadata": {
        "id": "d-Wv0yZDR-cZ"
      },
      "outputs": [],
      "source": [
        "def compute_advantage_gae(values, rewards, T, gae_lambda, discount):\n",
        "    \"\"\"\n",
        "    Compute Adavantage wiht GAE. See Section 4.4.2 in the lecture notes.\n",
        "\n",
        "    values: value at each timestep (T,)\n",
        "    rewards: reward obtained at each timestep.  Shape: (T,)\n",
        "    T: the number of frames, float\n",
        "    gae_lambda: hyperparameter, float\n",
        "    discount: discount factor, float\n",
        "\n",
        "    -----\n",
        "\n",
        "    returns:\n",
        "\n",
        "    advantages : tensor.float. Shape [T,]\n",
        "\n",
        "                 gae advantage term for timesteps 0 to T\n",
        "\n",
        "    \"\"\"\n",
        "\n",
        "    advantages = torch.zeros_like(values)\n",
        "\n",
        "    #### TODO: populate GAE in advantages over T timesteps (10 pts) ############\n",
        "    for t in range(T):\n",
        "      advantages[t] = 0\n",
        "      for l in range(0, T-t):\n",
        "\n",
        "        advantages[t] += (gae_lambda * discount) ** l * (rewards[t + l] + discount * values[t + l + 1] - values[t + l])\n",
        "\n",
        "    ############################################################################\n",
        "    return advantages[:T]\n",
        "\n",
        "#### Test GAE ####\n",
        "checker_policy_gradient.test_general_advantage_estimation(compute_advantage_gae)"
      ]
    },
    {
      "cell_type": "code",
      "execution_count": 10,
      "metadata": {
        "id": "67XzIFyRSARg"
      },
      "outputs": [],
      "source": [
        "def compute_discounted_return(rewards, discount, device=None):\n",
        "    \"\"\"\n",
        "\t\trewards: reward obtained at timestep.  Shape: (T,)\n",
        "\t\tdiscount: discount factor. float\n",
        "\n",
        "    ----\n",
        "    returns: sum of discounted rewards. Shape: (T,)\n",
        "\t\t\"\"\"\n",
        "    returns = torch.zeros(*rewards.shape, device=device)\n",
        "    #### TODO: populate discounted reward trajectory (10 pts) ############\n",
        "    cumulated_reward = 0\n",
        "    for t in reversed(range(len(rewards))):\n",
        "        cumulated_reward = rewards[t] + discount * cumulated_reward\n",
        "        returns[t] = cumulated_reward\n",
        "    return returns\n",
        "\n",
        "#### Test discounted return ####\n",
        "checker_policy_gradient.test_compute_discounted_return(compute_discounted_return)"
      ]
    },
    {
      "cell_type": "code",
      "execution_count": 11,
      "metadata": {
        "id": "ekC6vsRzbDdd"
      },
      "outputs": [],
      "source": [
        "def collect_experiences(env, acmodel, args, device=None):\n",
        "    \"\"\"\n",
        "    Collects rollouts and computes advantages.\n",
        "\n",
        "    -------\n",
        "    env     : DoorKeyEnv\n",
        "\n",
        "              The environement used to execute policies in.\n",
        "\n",
        "\n",
        "    acmodel : ACModel\n",
        "\n",
        "              The model used to evaluate observations to collect experiences\n",
        "\n",
        "    args    : Config\n",
        "\n",
        "              config arguments\n",
        "\n",
        "\n",
        "    device  : torch.cuda.device\n",
        "\n",
        "              the device torch tensors are evaluated on.\n",
        "\n",
        "    -------\n",
        "\n",
        "    Returns\n",
        "    -------\n",
        "    exps : dict\n",
        "        Contains actions, rewards, advantages etc as attributes.\n",
        "        Each attribute, e.g. `exps['reward']` has a shape\n",
        "        (self.num_frames, ...).\n",
        "    logs : dict\n",
        "        Useful stats about the training process, including the average\n",
        "        reward, policy loss, value loss, etc.\n",
        "    \"\"\"\n",
        "\n",
        "\n",
        "    MAX_FRAMES_PER_EP = 300\n",
        "    shape = (MAX_FRAMES_PER_EP, )\n",
        "\n",
        "    actions = torch.zeros(*shape, device=device, dtype=torch.int)\n",
        "    values = torch.zeros(*shape, device=device)\n",
        "    rewards = torch.zeros(*shape, device=device)\n",
        "    log_probs = torch.zeros(*shape, device=device)\n",
        "    obss = [None]*MAX_FRAMES_PER_EP\n",
        "\n",
        "    obs, _ = env.reset()\n",
        "\n",
        "    total_return = 0\n",
        "\n",
        "    T = 0\n",
        "\n",
        "    while True:\n",
        "        # Do one agent-environment interaction\n",
        "\n",
        "        preprocessed_obs = preprocess_obss(obs, device=device)\n",
        "\n",
        "        with torch.no_grad():\n",
        "            dist, value = acmodel(preprocessed_obs)\n",
        "        action = dist.sample()[0]\n",
        "\n",
        "\n",
        "        obss[T] = obs\n",
        "        # update environment from taken action. We use the resulting observation,\n",
        "        # reward, and whether or not environment is in the done/goal state.\n",
        "        obs, reward, done, _, _ = env.step(action.item())\n",
        "\n",
        "\n",
        "        # Update experiences values\n",
        "        actions[T] = action\n",
        "        values[T] = value\n",
        "        rewards[T] = reward\n",
        "        log_probs[T] = dist.log_prob(action)\n",
        "\n",
        "\n",
        "        total_return += reward\n",
        "        T += 1\n",
        "\n",
        "        if done or T>=MAX_FRAMES_PER_EP-1:\n",
        "            break\n",
        "\n",
        "    discounted_reward = compute_discounted_return(rewards[:T], args.discount, device)\n",
        "\n",
        "    # dict containing information on the experience\n",
        "    exps = dict(\n",
        "        obs = preprocess_obss([\n",
        "            obss[i]\n",
        "            for i in range(T)\n",
        "        ], device=device),\n",
        "        action = actions[:T],\n",
        "        value  = values[:T],\n",
        "        reward = rewards[:T],\n",
        "        advantage = discounted_reward-values[:T],\n",
        "        log_prob = log_probs[:T],\n",
        "        discounted_reward = discounted_reward,\n",
        "        advantage_gae=compute_advantage_gae(values, rewards, T, args.gae_lambda, args.discount)\n",
        "    )\n",
        "\n",
        "    logs = {\n",
        "        \"return_per_episode\": total_return,\n",
        "        \"num_frames\": T\n",
        "    }\n",
        "\n",
        "    return exps, logs"
      ]
    },
    {
      "cell_type": "markdown",
      "metadata": {
        "id": "XfKUViEGbDde"
      },
      "source": [
        "# REINFORCE\n",
        "\n",
        "Now comes the fun part!  Using the `collect_experiences` function and `ACModel`, we will implement vanilla policy gradients.  The following function takes in an `optimizer`, `ACModel`, batch of experience `sb`, and some arguments `args` (see `Config` in setup for fields and default values), and should perform a policy gradients parameter update using the observed experience.\n",
        "\n",
        "Fill in todos below to implement vanilla policy gradients **(20 pts)**."
      ]
    },
    {
      "cell_type": "code",
      "execution_count": 12,
      "metadata": {
        "id": "b3CvK_41d6pr"
      },
      "outputs": [],
      "source": [
        "def compute_policy_loss_reinforce(logps, returns):\n",
        "    \"\"\"\n",
        "    Function for computing the policy loss for the REINFORCE algorithm. See\n",
        "    4.2 of lecture notes.\n",
        "\n",
        "\t\tlogps: log probabilities for each time step. Shape: (T,)\n",
        "\t\treturns: total return for each time step. Shape: (T,)\n",
        "\n",
        "    ----\n",
        "    return : tensor.float Shape: [T,]\n",
        "\n",
        "             policy loss for each timestep\n",
        "\t\t\"\"\"\n",
        "    policy_loss = torch.tensor(0)\n",
        "\n",
        "    #### TODO: complete policy loss (10 pts) ###\n",
        "    # HINT:  Recall, that we want to perform gradient ASCENT to maximize returns\n",
        "\n",
        "\n",
        "    ############################################\n",
        "\n",
        "        # Multiply log probabilities with returns\n",
        "          # Compute the gradient of the log probabilities\n",
        "\n",
        "    policy_loss = - (logps * returns).mean()\n",
        "\n",
        "    # Compute policy loss as the negative sum of weighted returns\n",
        "    return policy_loss\n",
        "\n",
        "#### Test policy loss for REINFORCE algorithm ####\n",
        "checker_policy_gradient.test_compute_policy_loss_reinforce(compute_policy_loss_reinforce)"
      ]
    },
    {
      "cell_type": "code",
      "execution_count": 13,
      "metadata": {
        "id": "bzrKmjywSE0H"
      },
      "outputs": [],
      "source": [
        "def update_parameters_reinforce(optimizer, acmodel, sb, args):\n",
        "    \"\"\"\n",
        "    optimizer: Optimizer function used to perform gradient updates to model. torch.optim.Optimizer\n",
        "    acmodel: Network used to compute policy. torch.nn.Module\n",
        "    sb: stores experience data. Refer to \"collect_experiences\". dict\n",
        "    args: Config arguments. Config\n",
        "\n",
        "    return output logs : dict\n",
        "    \"\"\"\n",
        "\n",
        "    # logps is the log probability for taking an action for each time step. Shape (T,)\n",
        "    logps, reward = None, None\n",
        "\n",
        "    ### TODO: compute logps and reward from acmodel, sb['obs'], sb['action'], and sb['reward'] ###\n",
        "    ### If args.use_discounted_reward is True, use sb['discounted_reward'] instead. ##############\n",
        "    ### (10 pts) #########################################\n",
        "      # Get observation and action from experience buffer\n",
        "    obs, action, reward = sb['obs'], sb['action'], sb['reward']\n",
        "        # Use discounted reward if specified\n",
        "\n",
        "    if args.use_discounted_reward:\n",
        "        reward = sb['discounted_reward']\n",
        "\n",
        "    # Forward pass through actor-critic model to get action probabilities and value estimates\n",
        "    dist, values = acmodel.forward(obs)\n",
        "\n",
        "    # Compute log probabilities of the taken actions\n",
        "    logps = dist.log_prob(action)\n",
        "\n",
        "    ##############################################################################################\n",
        "\n",
        "    # computes policy loss\n",
        "    policy_loss = compute_policy_loss_reinforce(logps, reward)\n",
        "    update_policy_loss = policy_loss.item()\n",
        "\n",
        "    # Update actor-critic\n",
        "    optimizer.zero_grad()\n",
        "    policy_loss.backward()\n",
        "\n",
        "    # Perform gradient clipping for stability\n",
        "    for p in acmodel.parameters():\n",
        "        if p.grad is None:\n",
        "            print(\"Make sure you're not instantiating any critic variables when the critic is not used\")\n",
        "    update_grad_norm = sum(p.grad.data.norm(2) ** 2 for p in acmodel.parameters()) ** 0.5\n",
        "    torch.nn.utils.clip_grad_norm_(acmodel.parameters(), args.max_grad_norm)\n",
        "    optimizer.step()\n",
        "\n",
        "    # Log some values\n",
        "    logs = {\n",
        "        \"policy_loss\": update_policy_loss,\n",
        "        \"grad_norm\": update_grad_norm\n",
        "    }\n",
        "\n",
        "    return logs"
      ]
    },
    {
      "cell_type": "markdown",
      "metadata": {
        "id": "OC--D8zMVBtW"
      },
      "source": [
        "Now, let's try to run our implementation.  The following experiment harness is written for you, and will run sequential episodes of policy gradients until `args.max_episodes` timesteps are exceeded or the rolling average reward (over the last 100 episodes is greater than `args.score_threshold`. It is expected to get highly variable results, and we'll visualize some of this variability at the end.\n",
        "\n",
        "The method accepts as arguments a `Config` object `args`, and a `parameter_update` method (such as `update_parameters_reinforce`)."
      ]
    },
    {
      "cell_type": "code",
      "execution_count": 14,
      "metadata": {
        "id": "HiPziB2AbDdf"
      },
      "outputs": [],
      "source": [
        "def run_experiment(args, parameter_update, seed=0):\n",
        "    \"\"\"\n",
        "    Upper level function for running experiments to analyze reinforce and\n",
        "    policy gradient methods. Instantiates a model, collects epxeriences, and\n",
        "    then updates the neccessary parameters.\n",
        "\n",
        "    args: Config arguments. dict\n",
        "    paramter_update: function used to update model parameters\n",
        "    seed: random seed. int\n",
        "\n",
        "    return: DataFrame indexed by episode\n",
        "    \"\"\"\n",
        "\n",
        "    # Initialize random seeds for reproducible results\n",
        "    random.seed(seed)\n",
        "    np.random.seed(seed)\n",
        "    torch.manual_seed(seed)\n",
        "\n",
        "    device = torch.device(\"cuda\" if torch.cuda.is_available() else \"cpu\")\n",
        "    env = DoorKeyEnv5x5()\n",
        "\n",
        "    acmodel = ACModel(env.action_space.n, use_critic=args.use_critic)\n",
        "    acmodel.to(device)\n",
        "\n",
        "    is_solved = False\n",
        "\n",
        "    # Smooth reward taken from last SMOOTH_REWARD_WINDOW timesteps\n",
        "    SMOOTH_REWARD_WINDOW = 50\n",
        "\n",
        "    pd_logs, rewards = [], [0]*SMOOTH_REWARD_WINDOW\n",
        "\n",
        "    optimizer = torch.optim.Adam(acmodel.parameters(), lr=args.lr)\n",
        "    num_frames = 0\n",
        "\n",
        "    pbar = tqdm(range(args.max_episodes)) # show progess bar ()\n",
        "    for update in pbar:\n",
        "        # First collect experiences\n",
        "        exps, logs1 = collect_experiences(env, acmodel, args, device)\n",
        "        # update parameters from experiences\n",
        "        logs2 = parameter_update(optimizer, acmodel, exps, args)\n",
        "\n",
        "        logs = {**logs1, **logs2}\n",
        "\n",
        "        num_frames += logs[\"num_frames\"]\n",
        "\n",
        "        rewards.append(logs[\"return_per_episode\"])\n",
        "\n",
        "        smooth_reward = np.mean(rewards[-SMOOTH_REWARD_WINDOW:])\n",
        "\n",
        "        data = {'episode':update, 'num_frames':num_frames, 'smooth_reward':smooth_reward,\n",
        "                'reward':logs[\"return_per_episode\"], 'policy_loss':logs[\"policy_loss\"]}\n",
        "\n",
        "        if args.use_critic:\n",
        "            data['value_loss'] = logs[\"value_loss\"]\n",
        "\n",
        "        pd_logs.append(data)\n",
        "\n",
        "#         pbar.set_postfix(data)\n",
        "\n",
        "        # Early terminate\n",
        "        if smooth_reward >= args.score_threshold:\n",
        "            is_solved = True\n",
        "            break\n",
        "\n",
        "    if is_solved:\n",
        "        print('Solved!')\n",
        "\n",
        "    return pd.DataFrame(pd_logs).set_index('episode')\n"
      ]
    },
    {
      "cell_type": "markdown",
      "metadata": {
        "id": "mt63uqbfVmxl"
      },
      "source": [
        "## Run Reinforce\n",
        "\n",
        "Great!  Now let's run our implementation, and see how we do."
      ]
    },
    {
      "cell_type": "code",
      "execution_count": 15,
      "metadata": {
        "colab": {
          "base_uri": "https://localhost:8080/",
          "height": 356
        },
        "id": "t4woYuSzR3Aw",
        "outputId": "ca17e68c-182f-4876-a5de-0e97d81734ab"
      },
      "outputs": [
        {
          "output_type": "stream",
          "name": "stderr",
          "text": [
            "  0%|          | 9/2000 [00:35<2:10:12,  3.92s/it]\n"
          ]
        },
        {
          "output_type": "error",
          "ename": "KeyboardInterrupt",
          "evalue": "",
          "traceback": [
            "\u001b[0;31m---------------------------------------------------------------------------\u001b[0m",
            "\u001b[0;31mKeyboardInterrupt\u001b[0m                         Traceback (most recent call last)",
            "\u001b[0;32m<ipython-input-15-a669e7cca383>\u001b[0m in \u001b[0;36m<cell line: 2>\u001b[0;34m()\u001b[0m\n\u001b[1;32m      1\u001b[0m \u001b[0margs\u001b[0m \u001b[0;34m=\u001b[0m \u001b[0mConfig\u001b[0m\u001b[0;34m(\u001b[0m\u001b[0;34m)\u001b[0m\u001b[0;34m\u001b[0m\u001b[0;34m\u001b[0m\u001b[0m\n\u001b[0;32m----> 2\u001b[0;31m \u001b[0mdf\u001b[0m \u001b[0;34m=\u001b[0m \u001b[0mrun_experiment\u001b[0m\u001b[0;34m(\u001b[0m\u001b[0margs\u001b[0m\u001b[0;34m,\u001b[0m \u001b[0mupdate_parameters_reinforce\u001b[0m\u001b[0;34m)\u001b[0m\u001b[0;34m\u001b[0m\u001b[0;34m\u001b[0m\u001b[0m\n\u001b[0m\u001b[1;32m      3\u001b[0m \u001b[0;34m\u001b[0m\u001b[0m\n\u001b[1;32m      4\u001b[0m \u001b[0mdf\u001b[0m\u001b[0;34m.\u001b[0m\u001b[0mplot\u001b[0m\u001b[0;34m(\u001b[0m\u001b[0mx\u001b[0m\u001b[0;34m=\u001b[0m\u001b[0;34m'num_frames'\u001b[0m\u001b[0;34m,\u001b[0m \u001b[0my\u001b[0m\u001b[0;34m=\u001b[0m\u001b[0;34m'reward'\u001b[0m\u001b[0;34m)\u001b[0m\u001b[0;34m\u001b[0m\u001b[0;34m\u001b[0m\u001b[0m\n",
            "\u001b[0;32m<ipython-input-14-532d43191081>\u001b[0m in \u001b[0;36mrun_experiment\u001b[0;34m(args, parameter_update, seed)\u001b[0m\n\u001b[1;32m     36\u001b[0m     \u001b[0;32mfor\u001b[0m \u001b[0mupdate\u001b[0m \u001b[0;32min\u001b[0m \u001b[0mpbar\u001b[0m\u001b[0;34m:\u001b[0m\u001b[0;34m\u001b[0m\u001b[0;34m\u001b[0m\u001b[0m\n\u001b[1;32m     37\u001b[0m         \u001b[0;31m# First collect experiences\u001b[0m\u001b[0;34m\u001b[0m\u001b[0;34m\u001b[0m\u001b[0m\n\u001b[0;32m---> 38\u001b[0;31m         \u001b[0mexps\u001b[0m\u001b[0;34m,\u001b[0m \u001b[0mlogs1\u001b[0m \u001b[0;34m=\u001b[0m \u001b[0mcollect_experiences\u001b[0m\u001b[0;34m(\u001b[0m\u001b[0menv\u001b[0m\u001b[0;34m,\u001b[0m \u001b[0macmodel\u001b[0m\u001b[0;34m,\u001b[0m \u001b[0margs\u001b[0m\u001b[0;34m,\u001b[0m \u001b[0mdevice\u001b[0m\u001b[0;34m)\u001b[0m\u001b[0;34m\u001b[0m\u001b[0;34m\u001b[0m\u001b[0m\n\u001b[0m\u001b[1;32m     39\u001b[0m         \u001b[0;31m# update parameters from experiences\u001b[0m\u001b[0;34m\u001b[0m\u001b[0;34m\u001b[0m\u001b[0m\n\u001b[1;32m     40\u001b[0m         \u001b[0mlogs2\u001b[0m \u001b[0;34m=\u001b[0m \u001b[0mparameter_update\u001b[0m\u001b[0;34m(\u001b[0m\u001b[0moptimizer\u001b[0m\u001b[0;34m,\u001b[0m \u001b[0macmodel\u001b[0m\u001b[0;34m,\u001b[0m \u001b[0mexps\u001b[0m\u001b[0;34m,\u001b[0m \u001b[0margs\u001b[0m\u001b[0;34m)\u001b[0m\u001b[0;34m\u001b[0m\u001b[0;34m\u001b[0m\u001b[0m\n",
            "\u001b[0;32m<ipython-input-11-b3d5a801b478>\u001b[0m in \u001b[0;36mcollect_experiences\u001b[0;34m(env, acmodel, args, device)\u001b[0m\n\u001b[1;32m     94\u001b[0m         \u001b[0mlog_prob\u001b[0m \u001b[0;34m=\u001b[0m \u001b[0mlog_probs\u001b[0m\u001b[0;34m[\u001b[0m\u001b[0;34m:\u001b[0m\u001b[0mT\u001b[0m\u001b[0;34m]\u001b[0m\u001b[0;34m,\u001b[0m\u001b[0;34m\u001b[0m\u001b[0;34m\u001b[0m\u001b[0m\n\u001b[1;32m     95\u001b[0m         \u001b[0mdiscounted_reward\u001b[0m \u001b[0;34m=\u001b[0m \u001b[0mdiscounted_reward\u001b[0m\u001b[0;34m,\u001b[0m\u001b[0;34m\u001b[0m\u001b[0;34m\u001b[0m\u001b[0m\n\u001b[0;32m---> 96\u001b[0;31m         \u001b[0madvantage_gae\u001b[0m\u001b[0;34m=\u001b[0m\u001b[0mcompute_advantage_gae\u001b[0m\u001b[0;34m(\u001b[0m\u001b[0mvalues\u001b[0m\u001b[0;34m,\u001b[0m \u001b[0mrewards\u001b[0m\u001b[0;34m,\u001b[0m \u001b[0mT\u001b[0m\u001b[0;34m,\u001b[0m \u001b[0margs\u001b[0m\u001b[0;34m.\u001b[0m\u001b[0mgae_lambda\u001b[0m\u001b[0;34m,\u001b[0m \u001b[0margs\u001b[0m\u001b[0;34m.\u001b[0m\u001b[0mdiscount\u001b[0m\u001b[0;34m)\u001b[0m\u001b[0;34m\u001b[0m\u001b[0;34m\u001b[0m\u001b[0m\n\u001b[0m\u001b[1;32m     97\u001b[0m     )\n\u001b[1;32m     98\u001b[0m \u001b[0;34m\u001b[0m\u001b[0m\n",
            "\u001b[0;32m<ipython-input-9-7c76cd6dea26>\u001b[0m in \u001b[0;36mcompute_advantage_gae\u001b[0;34m(values, rewards, T, gae_lambda, discount)\u001b[0m\n\u001b[1;32m     26\u001b[0m       \u001b[0;32mfor\u001b[0m \u001b[0ml\u001b[0m \u001b[0;32min\u001b[0m \u001b[0mrange\u001b[0m\u001b[0;34m(\u001b[0m\u001b[0;36m0\u001b[0m\u001b[0;34m,\u001b[0m \u001b[0mT\u001b[0m\u001b[0;34m-\u001b[0m\u001b[0mt\u001b[0m\u001b[0;34m)\u001b[0m\u001b[0;34m:\u001b[0m\u001b[0;34m\u001b[0m\u001b[0;34m\u001b[0m\u001b[0m\n\u001b[1;32m     27\u001b[0m \u001b[0;34m\u001b[0m\u001b[0m\n\u001b[0;32m---> 28\u001b[0;31m         \u001b[0madvantages\u001b[0m\u001b[0;34m[\u001b[0m\u001b[0mt\u001b[0m\u001b[0;34m]\u001b[0m \u001b[0;34m+=\u001b[0m \u001b[0;34m(\u001b[0m\u001b[0mgae_lambda\u001b[0m \u001b[0;34m*\u001b[0m \u001b[0mdiscount\u001b[0m\u001b[0;34m)\u001b[0m \u001b[0;34m**\u001b[0m \u001b[0ml\u001b[0m \u001b[0;34m*\u001b[0m \u001b[0;34m(\u001b[0m\u001b[0mrewards\u001b[0m\u001b[0;34m[\u001b[0m\u001b[0mt\u001b[0m \u001b[0;34m+\u001b[0m \u001b[0ml\u001b[0m\u001b[0;34m]\u001b[0m \u001b[0;34m+\u001b[0m \u001b[0mdiscount\u001b[0m \u001b[0;34m*\u001b[0m \u001b[0mvalues\u001b[0m\u001b[0;34m[\u001b[0m\u001b[0mt\u001b[0m \u001b[0;34m+\u001b[0m \u001b[0ml\u001b[0m \u001b[0;34m+\u001b[0m \u001b[0;36m1\u001b[0m\u001b[0;34m]\u001b[0m \u001b[0;34m-\u001b[0m \u001b[0mvalues\u001b[0m\u001b[0;34m[\u001b[0m\u001b[0mt\u001b[0m \u001b[0;34m+\u001b[0m \u001b[0ml\u001b[0m\u001b[0;34m]\u001b[0m\u001b[0;34m)\u001b[0m\u001b[0;34m\u001b[0m\u001b[0;34m\u001b[0m\u001b[0m\n\u001b[0m\u001b[1;32m     29\u001b[0m \u001b[0;34m\u001b[0m\u001b[0m\n\u001b[1;32m     30\u001b[0m     \u001b[0;31m############################################################################\u001b[0m\u001b[0;34m\u001b[0m\u001b[0;34m\u001b[0m\u001b[0m\n",
            "\u001b[0;31mKeyboardInterrupt\u001b[0m: "
          ]
        }
      ],
      "source": [
        "args = Config()\n",
        "df = run_experiment(args, update_parameters_reinforce)\n",
        "\n",
        "df.plot(x='num_frames', y='reward')"
      ]
    },
    {
      "cell_type": "markdown",
      "metadata": {
        "id": "e-cVKxayYY1B"
      },
      "source": [
        "## REINFORCE with Discounted Reward\n",
        "\n",
        "Uh oh! Even after 300,000 steps, our policy does not converge. One reason for failure is the way rewards are generated in the real-world. In an ideal world, the agent would be rewarded at every timestep in a manner that perfectly corresponded to the quality of the action taken in a particular state.  However, this is rarely the case; for example, in Doorkey we only get reward at the very end of the episode (i.e., the sparse reward scenario).\n",
        "\n",
        "Oh, the reward is binary and difficult to see the improvement since it depends on the density of the blue bar in the plot. So, we smooth reward by averaging certain amount of rewards from previous episode (`smooth_reward`).\n",
        "\n",
        "Fill in `compute_discounted_return` code block above, then run code cell below to see the effect of discounted reward trajectories.  This should converge, so if it doesn't, you've made an error (although try re-running the cell a few times first to make sure it's not a bad random seed). **(10 pts)**\n",
        "\n"
      ]
    },
    {
      "cell_type": "code",
      "execution_count": null,
      "metadata": {
        "id": "4fDIhCpeZxdd"
      },
      "outputs": [],
      "source": [
        "args = Config(use_discounted_reward=True)\n",
        "df = run_experiment(args, update_parameters_reinforce)\n",
        "\n",
        "df.plot(x='num_frames', y=['reward', 'smooth_reward'])"
      ]
    },
    {
      "cell_type": "markdown",
      "metadata": {
        "id": "1lWHQpkubqpM"
      },
      "source": [
        "# Vanilla Policy Gradients\n",
        "\n",
        "You may have noticed that the REINFORCE training curve is extremely unstable. It's time to bring in our *critic*!  We can prove from the Expected Grad-Log-Prob (EGLP) lemma that we can subtract any function $b(x)$ from our reward without changing our policy in expectation:"
      ]
    },
    {
      "cell_type": "markdown",
      "metadata": {
        "id": "f8PdtlQTbDdg"
      },
      "source": [
        "![image.png](data:image/png;base64,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)"
      ]
    },
    {
      "cell_type": "markdown",
      "metadata": {
        "id": "8OSRQMGGqfUj"
      },
      "source": [
        "### Baseline Proof\n",
        "\n",
        "**Question**: Prove that adding a baseline doesn't change the policy in expectation using the EGLP lemma. **(10 pts)**\n",
        "\n",
        "**EGLP lemma** Suppose that $P_{\\theta}$ is a parameterized probability distribution over a random variable, $x$. Then:\n",
        "\n",
        "$E_{x \\sim P_{\\theta}}{ [ \\nabla_{\\theta} \\log P_{\\theta}(x) ] } = 0$.\n",
        "\n",
        "**Proof**: We can take the expectation of the baseline function and take the $ b(s_t)$ term out using linearity of expection. Then, applying the EGLP lemma, $ b(s_t)⋅ E[\\nabla_{\\theta} log π_Θ] = 0 $, because it is zero, it is the same as the expectation of the formula without the baseline, which implies that adding the baseline B(s) doesn't change the policy in expectation."
      ]
    },
    {
      "cell_type": "markdown",
      "metadata": {
        "id": "kNXJ4XqNbs0n"
      },
      "source": [
        "Empirically, using the on-policy value function as the baseline ($b$) reduces variance in the policy gradient sample estimate, leading to faster and more stable learning.  We can estimate the $b$ using an L2 loss to the true rewards (or in our case, the discounted rewards), and constitutes an additional loss term in the overall objective. The baseline substracted return term, $R(s_{t'},a_{t'},s_{t' + 1}) - b(s_t)$ is already computed for you, and is referred to as the *advantage*."
      ]
    },
    {
      "cell_type": "code",
      "execution_count": 16,
      "metadata": {
        "id": "srhPE5Ctd6py"
      },
      "outputs": [],
      "source": [
        "def compute_policy_loss_with_baseline(logps, advantages):\n",
        "    \"\"\"\n",
        "    Computes policy loss with added baseline term. Refer to 4.3 in Lecture Notes.\n",
        "    logps:  computed log probabilities. shape (T,)\n",
        "    advantages: computed advantages. shape: (T,)\n",
        "\n",
        "    ---\n",
        "\n",
        "    return policy loss computed with baseline term: tensor.float. Shape (,1)\n",
        "\n",
        "           refer to 4.3- Baseline in lecture notes\n",
        "\n",
        "    \"\"\"\n",
        "    policy_loss = 0\n",
        "\n",
        "    ### TODO: implement the policy loss (5 pts) ##############\n",
        "    policy_loss = -(logps * advantages).mean()\n",
        "\n",
        "    ##################################################\n",
        "\n",
        "    return policy_loss\n",
        "\n",
        "#### Test discounted return ####\n",
        "checker_policy_gradient.test_compute_policy_loss_with_baseline(compute_policy_loss_with_baseline)"
      ]
    },
    {
      "cell_type": "code",
      "execution_count": 17,
      "metadata": {
        "id": "mM4Rqfe9bDdi"
      },
      "outputs": [],
      "source": [
        "def update_parameters_with_baseline(optimizer, acmodel, sb, args):\n",
        "    \"\"\"\n",
        "    Updates model parameters using value and policy functions\n",
        "\n",
        "    optimizer: Optimizer function used to perform gradient updates to model. torch.optim.Optimizer\n",
        "    acmodel: Network used to compute policy. torch.nn.Module\n",
        "    sb: stores experience data. Refer to \"collect_experiences\". dict\n",
        "    args: Config arguments\n",
        "    \"\"\"\n",
        "    def _compute_value_loss(values, returns):\n",
        "        \"\"\"\n",
        "        Computes the value loss of critic model. See 4.3 of Lecture Notes\n",
        "\n",
        "        values: computed values from critic model shape: (T,)\n",
        "        returns: discounted rewards. shape: (T,)\n",
        "\n",
        "\n",
        "        ---\n",
        "        computes loss of value function. See 4.3, eq. 11 in lecture notes : tensor.float. Shape (,1)\n",
        "        \"\"\"\n",
        "\n",
        "        value_loss = 0\n",
        "\n",
        "        ### TODO: implement the value loss (5 pts) ###############\n",
        "        value_loss = ((returns - values)**2).mean()\n",
        "\n",
        "\n",
        "        ##################################################\n",
        "\n",
        "        return value_loss\n",
        "\n",
        "    logps, advantage, values, reward = None, None, None, None\n",
        "\n",
        "    dist, values = acmodel(sb['obs'])\n",
        "    logps = dist.log_prob(sb['action'])\n",
        "    advantage = sb['advantage_gae'] if args.use_gae else sb['advantage']\n",
        "    reward = sb['discounted_reward']\n",
        "\n",
        "    policy_loss = compute_policy_loss_with_baseline(logps, advantage)\n",
        "    value_loss = _compute_value_loss(values, reward)\n",
        "    loss = policy_loss + value_loss\n",
        "\n",
        "    update_policy_loss = policy_loss.item()\n",
        "    update_value_loss = value_loss.item()\n",
        "\n",
        "    # Update actor-critic\n",
        "    optimizer.zero_grad()\n",
        "    loss.backward()\n",
        "    update_grad_norm = sum(p.grad.data.norm(2) ** 2 for p in acmodel.parameters()) ** 0.5\n",
        "    torch.nn.utils.clip_grad_norm_(acmodel.parameters(), args.max_grad_norm)\n",
        "    optimizer.step()\n",
        "\n",
        "    # Log some values\n",
        "\n",
        "    logs = {\n",
        "        \"policy_loss\": update_policy_loss,\n",
        "        \"value_loss\": update_value_loss,\n",
        "        \"grad_norm\": update_grad_norm\n",
        "    }\n",
        "\n",
        "    return logs"
      ]
    },
    {
      "cell_type": "markdown",
      "metadata": {
        "id": "Vcftj9PpbDdi"
      },
      "source": [
        "## Run REINFORCE with baseline\n",
        "\n",
        "If you did everything right, you should be able to run the below cell to run the vanilla policy gradients implementation with baseline.  This should be somewhat more stable than without the baseline, and likely converge faster.\n"
      ]
    },
    {
      "cell_type": "code",
      "execution_count": null,
      "metadata": {
        "id": "ygISg6VJbDdi",
        "colab": {
          "base_uri": "https://localhost:8080/"
        },
        "outputId": "d4568c18-2f80-47a0-bea5-3cc5f88c1a8d"
      },
      "outputs": [
        {
          "output_type": "stream",
          "name": "stderr",
          "text": [
            " 97%|█████████▋| 1949/2000 [1:49:58<02:54,  3.43s/it]"
          ]
        }
      ],
      "source": [
        "args = Config(use_critic=True)\n",
        "df_baseline = run_experiment(args, update_parameters_with_baseline)\n",
        "\n",
        "df_baseline.plot(x='num_frames', y=['reward', 'smooth_reward'])"
      ]
    },
    {
      "cell_type": "markdown",
      "metadata": {
        "id": "HhfHluYAfTKC"
      },
      "source": [
        "# Reinforce with GAE\n",
        "\n",
        "The advantage we computed above seemed to work, and hopefully improved our results! Fortunately, we can do even better. The paper Generalized Advantage Estimation describes a nifty method for building a strong advantage estimate (see formula 16 in the paper) that empirically outperforms a naive subtraction (and includes reward shaping). Implemented the GAE function we left blank from earlier."
      ]
    },
    {
      "cell_type": "code",
      "execution_count": null,
      "metadata": {
        "id": "vcfHPVV5JmGb"
      },
      "outputs": [],
      "source": [
        "args = Config(use_critic=True, use_gae=True)\n",
        "df_gae = run_experiment(args, update_parameters_with_baseline)\n",
        "\n",
        "df_gae.plot(x='num_frames', y=['reward', 'smooth_reward'])"
      ]
    },
    {
      "cell_type": "markdown",
      "metadata": {
        "id": "eYDI-Bk5wGUl"
      },
      "source": [
        "# Fancy Plots\n",
        "If you've gotten to this point, congrats: you've succesfully implemented REINFORCE, VPG, and GAE!\n",
        "\n",
        "**(10 pts)** Now let's visualize every result in one plot."
      ]
    },
    {
      "cell_type": "code",
      "execution_count": null,
      "metadata": {
        "id": "OX1Ix0RjHY-P"
      },
      "outputs": [],
      "source": [
        "# TODO Visualize all results into one plot.\n",
        "plt.figure(figsize=(8, 6))  # Adjust figure size if needed\n",
        "df = run_experiment(args, update_parameters_reinforce)\n",
        "\n",
        "# Plot each DataFrame\n",
        "plt.plot(df_gae['num_frames'], df_gae['reward', 'smooth_reward'], label='GAE')\n",
        "plt.plot(df_baseline['num_frames'], df_baseline['reward', 'smooth_reward'], label='VPG')\n",
        "plt.plot(df['num_frames'], df['reward', 'smooth_reward'], label='Reinforce')\n",
        "\n",
        "\n",
        "# Add labels and legend\n",
        "plt.xlabel('num_frames')\n",
        "plt.ylabel('Reward')\n",
        "plt.title('Reward Curves for Reinforce VPG and GAE')\n",
        "plt.legend()"
      ]
    },
    {
      "cell_type": "markdown",
      "metadata": {
        "id": "szIN_31Ypt9G"
      },
      "source": [
        "\n",
        "While we've been able to anecdotally compare their performance, we don't have any sense of *scientific rigor*.  Notably, given the variance you've likely seen between runs of these models, a single run may not reflect how strong a model really is.\n",
        "\n",
        "**(10 pts)** Compare the performance between the different methods in below plot. What is the best performing method? How is variance reflected in these plots? What could account for this variance?"
      ]
    },
    {
      "cell_type": "markdown",
      "metadata": {
        "id": "-hThTY4iv73x"
      },
      "source": [
        "**A**\n",
        "The performance of vpg seems to be the best when the number of episodes is large while the reinforce methods works the best when the number of episode is small. The variance of the gae methods seems to be the largest which could be because of the inaccuracy of the value estimate."
      ]
    },
    {
      "cell_type": "markdown",
      "metadata": {
        "id": "w2IzTFYRwarE"
      },
      "source": [
        "![all](data:image/png;base64,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)"
      ]
    },
    {
      "cell_type": "markdown",
      "metadata": {
        "id": "x9q6j-VUVv9P"
      },
      "source": [
        "# Survey (bonus points, 10 pts)\n",
        "Please fill out [this anonymous survey](https://forms.gle/s5YnyTmeF7UnXuKy7) and enter the code below to receive credit. Thanks!"
      ]
    },
    {
      "cell_type": "markdown",
      "metadata": {
        "id": "gcbA53cCV0RD"
      },
      "source": [
        "**Code:**policy_gradient"
      ]
    }
  ],
  "metadata": {
    "accelerator": "GPU",
    "colab": {
      "gpuType": "A100",
      "machine_shape": "hm",
      "provenance": [],
      "include_colab_link": true
    },
    "kernelspec": {
      "display_name": "Python 3",
      "name": "python3"
    },
    "language_info": {
      "codemirror_mode": {
        "name": "ipython",
        "version": 3
      },
      "file_extension": ".py",
      "mimetype": "text/x-python",
      "name": "python",
      "nbconvert_exporter": "python",
      "pygments_lexer": "ipython3",
      "version": "3.10.5"
    },
    "latex_envs": {
      "LaTeX_envs_menu_present": true,
      "autoclose": false,
      "autocomplete": true,
      "bibliofile": "biblio.bib",
      "cite_by": "apalike",
      "current_citInitial": 1,
      "eqLabelWithNumbers": true,
      "eqNumInitial": 1,
      "hotkeys": {
        "equation": "Ctrl-E",
        "itemize": "Ctrl-I"
      },
      "labels_anchors": false,
      "latex_user_defs": false,
      "report_style_numbering": false,
      "user_envs_cfg": false
    },
    "toc": {
      "base_numbering": 1,
      "nav_menu": {},
      "number_sections": true,
      "sideBar": true,
      "skip_h1_title": false,
      "title_cell": "Table of Contents",
      "title_sidebar": "Contents",
      "toc_cell": false,
      "toc_position": {},
      "toc_section_display": true,
      "toc_window_display": false
    },
    "vscode": {
      "interpreter": {
        "hash": "fe800b08a93cfee4c3e60986d8d998a5cc659f6e0ab2f0a76595c9be9f84a6fb"
      }
    }
  },
  "nbformat": 4,
  "nbformat_minor": 0
}